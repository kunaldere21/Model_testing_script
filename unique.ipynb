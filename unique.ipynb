{
 "cells": [
  {
   "cell_type": "code",
   "execution_count": 1,
   "id": "10d3a4c1",
   "metadata": {},
   "outputs": [],
   "source": [
    "import pandas as pd\n",
    "import os \n",
    "import shutil"
   ]
  },
  {
   "cell_type": "code",
   "execution_count": 2,
   "id": "35070c4f",
   "metadata": {},
   "outputs": [],
   "source": [
    "mean = pd.read_csv('/home/dell/Documents/My_wrok/oct_23/cust_models/mean.csv')\n",
    "agg = pd.read_csv('/home/dell/Documents/My_wrok/oct_23/cust_models/agg.csv')\n",
    "v2 = pd.read_csv('/home/dell/Documents/My_wrok/oct_23/cust_models/v2.csv')"
   ]
  },
  {
   "cell_type": "code",
   "execution_count": 3,
   "id": "f6eaa19a",
   "metadata": {},
   "outputs": [],
   "source": [
    "# fake\n",
    "mean_fake = mean.loc[mean['class'] == 'fake']\n",
    "mean_fake_tn= mean_fake.loc[mean_fake['pred_score']<0.2]\n",
    "mean_fake_fp= mean_fake.loc[mean_fake['pred_score']>=0.2]\n",
    "\n",
    "agg_fake = agg.loc[agg['class'] == 'fake']\n",
    "agg_fake_tn= agg_fake.loc[agg_fake['pred_score']<0.2]\n",
    "agg_fake_fp= agg_fake.loc[agg_fake['pred_score']>=0.2]\n",
    "\n",
    "\n",
    "v2_fake = v2.loc[v2['class'] == 'fake']\n",
    "v2_fake_tn= v2_fake.loc[v2_fake['pred_score']<0.5]\n",
    "v2_fake_fp= v2_fake.loc[v2_fake['pred_score']>=0.5]\n",
    "\n"
   ]
  },
  {
   "cell_type": "code",
   "execution_count": 9,
   "id": "f12b3ff4",
   "metadata": {},
   "outputs": [
    {
     "data": {
      "text/html": [
       "<div>\n",
       "<style scoped>\n",
       "    .dataframe tbody tr th:only-of-type {\n",
       "        vertical-align: middle;\n",
       "    }\n",
       "\n",
       "    .dataframe tbody tr th {\n",
       "        vertical-align: top;\n",
       "    }\n",
       "\n",
       "    .dataframe thead th {\n",
       "        text-align: right;\n",
       "    }\n",
       "</style>\n",
       "<table border=\"1\" class=\"dataframe\">\n",
       "  <thead>\n",
       "    <tr style=\"text-align: right;\">\n",
       "      <th></th>\n",
       "      <th>image_name</th>\n",
       "      <th>class</th>\n",
       "      <th>pred_score</th>\n",
       "    </tr>\n",
       "  </thead>\n",
       "  <tbody>\n",
       "    <tr>\n",
       "      <th>655746</th>\n",
       "      <td>9be40d50ea684d96a7890c324db3f0e0_image.jpg</td>\n",
       "      <td>fake</td>\n",
       "      <td>2.102188e-08</td>\n",
       "    </tr>\n",
       "    <tr>\n",
       "      <th>655747</th>\n",
       "      <td>11fb63616ab2340889c0bd2325a54f7e_image.jpg</td>\n",
       "      <td>fake</td>\n",
       "      <td>5.842689e-13</td>\n",
       "    </tr>\n",
       "    <tr>\n",
       "      <th>655749</th>\n",
       "      <td>49270f647ba2f2e0b20afde493fcee02_image.jpg</td>\n",
       "      <td>fake</td>\n",
       "      <td>2.112357e-08</td>\n",
       "    </tr>\n",
       "    <tr>\n",
       "      <th>655753</th>\n",
       "      <td>fecb3316d3eb2c84739e2e109f029796_image.png</td>\n",
       "      <td>fake</td>\n",
       "      <td>1.325882e-06</td>\n",
       "    </tr>\n",
       "    <tr>\n",
       "      <th>655754</th>\n",
       "      <td>de2333f3966240c22efb7002bf47e3c1_image.jpg</td>\n",
       "      <td>fake</td>\n",
       "      <td>2.843057e-06</td>\n",
       "    </tr>\n",
       "    <tr>\n",
       "      <th>...</th>\n",
       "      <td>...</td>\n",
       "      <td>...</td>\n",
       "      <td>...</td>\n",
       "    </tr>\n",
       "    <tr>\n",
       "      <th>845074</th>\n",
       "      <td>cbf3afeadd4cf4e65a6b1619baa81eef_image.jpg</td>\n",
       "      <td>fake</td>\n",
       "      <td>4.933867e-07</td>\n",
       "    </tr>\n",
       "    <tr>\n",
       "      <th>845076</th>\n",
       "      <td>6fd10efe795d73ff5f0cc5521cd6f226_image.jpg</td>\n",
       "      <td>fake</td>\n",
       "      <td>9.431543e-09</td>\n",
       "    </tr>\n",
       "    <tr>\n",
       "      <th>845077</th>\n",
       "      <td>b6b38c1a6b001c4d312f7afefe0bc8bf_image.jpg</td>\n",
       "      <td>fake</td>\n",
       "      <td>4.234106e-08</td>\n",
       "    </tr>\n",
       "    <tr>\n",
       "      <th>845078</th>\n",
       "      <td>627124d678e6636719ba4f16bdfe74f0_image.jpg</td>\n",
       "      <td>fake</td>\n",
       "      <td>1.613363e-08</td>\n",
       "    </tr>\n",
       "    <tr>\n",
       "      <th>845079</th>\n",
       "      <td>433c023a9b204e5e52215f19e0453d14_image.jpg</td>\n",
       "      <td>fake</td>\n",
       "      <td>3.589415e-06</td>\n",
       "    </tr>\n",
       "  </tbody>\n",
       "</table>\n",
       "<p>131334 rows × 3 columns</p>\n",
       "</div>"
      ],
      "text/plain": [
       "                                        image_name class    pred_score\n",
       "655746  9be40d50ea684d96a7890c324db3f0e0_image.jpg  fake  2.102188e-08\n",
       "655747  11fb63616ab2340889c0bd2325a54f7e_image.jpg  fake  5.842689e-13\n",
       "655749  49270f647ba2f2e0b20afde493fcee02_image.jpg  fake  2.112357e-08\n",
       "655753  fecb3316d3eb2c84739e2e109f029796_image.png  fake  1.325882e-06\n",
       "655754  de2333f3966240c22efb7002bf47e3c1_image.jpg  fake  2.843057e-06\n",
       "...                                            ...   ...           ...\n",
       "845074  cbf3afeadd4cf4e65a6b1619baa81eef_image.jpg  fake  4.933867e-07\n",
       "845076  6fd10efe795d73ff5f0cc5521cd6f226_image.jpg  fake  9.431543e-09\n",
       "845077  b6b38c1a6b001c4d312f7afefe0bc8bf_image.jpg  fake  4.234106e-08\n",
       "845078  627124d678e6636719ba4f16bdfe74f0_image.jpg  fake  1.613363e-08\n",
       "845079  433c023a9b204e5e52215f19e0453d14_image.jpg  fake  3.589415e-06\n",
       "\n",
       "[131334 rows x 3 columns]"
      ]
     },
     "execution_count": 9,
     "metadata": {},
     "output_type": "execute_result"
    }
   ],
   "source": [
    "v2_fake_tn"
   ]
  },
  {
   "cell_type": "code",
   "execution_count": 31,
   "id": "61d1d64e",
   "metadata": {},
   "outputs": [],
   "source": [
    "# TN\n",
    "mean_fake_fp_list = mean_fake_fp['image_name'].tolist()\n",
    "agg_fake_fp_list = agg_fake_fp['image_name'].tolist()\n",
    "v2_fake_fp_list = v2_fake_fp['image_name'].tolist()"
   ]
  },
  {
   "cell_type": "code",
   "execution_count": 27,
   "id": "f04aa193",
   "metadata": {},
   "outputs": [],
   "source": [
    "mean_fake_tn_list = mean_fake_tn['image_name'].tolist()\n",
    "agg_fake_tn_list = agg_fake_tn['image_name'].tolist()\n",
    "v2_fake_tn_list = v2_fake_tn['image_name'].tolist()\n",
    "\n",
    "input_dict = '/home/dell/Documents/My_wrok/oct_23/Total_liveness_data/fake'\n",
    "# input_list = os.listdir(input_dict)\n",
    "output_path1 = '/home/dell/Documents/My_wrok/oct_23/mean_model_data/TN'\n",
    "os.makedirs(output_path1,exist_ok=True)\n",
    "output_path2 = '/home/dell/Documents/My_wrok/oct_23/agg_model_data/TN'\n",
    "os.makedirs(output_path2,exist_ok=True)\n",
    "output_path3 = '/home/dell/Documents/My_wrok/oct_23/v2_model_data/TN'\n",
    "os.makedirs(output_path3,exist_ok=True)\n",
    "\n",
    "for img in mean_fake_tn_list:\n",
    "    if img not in agg_fake_tn_list and img not in v2_fake_tn_list:\n",
    "        shutil.copy(os.path.join(input_dict,img),output_path1)\n",
    "        \n",
    "for img in agg_fake_tn_list:\n",
    "    if img not in mean_fake_tn_list and img not in v2_fake_tn_list:\n",
    "        shutil.copy(os.path.join(input_dict,img),output_path2)\n",
    "        \n",
    "for img in v2_fake_tn_list:\n",
    "    if img not in agg_fake_tn_list and img not in mean_fake_tn_list:\n",
    "        shutil.copy(os.path.join(input_dict,img),output_path3)"
   ]
  },
  {
   "cell_type": "code",
   "execution_count": 32,
   "id": "f7f87e4a",
   "metadata": {},
   "outputs": [],
   "source": [
    "input_dict = '/home/dell/Documents/My_wrok/oct_23/Total_liveness_data/fake'\n",
    "# input_list = os.listdir(input_dict)\n",
    "output_path1 = '/home/dell/Documents/My_wrok/oct_23/mean_model_data/FP'\n",
    "os.makedirs(output_path1,exist_ok=True)\n",
    "output_path2 = '/home/dell/Documents/My_wrok/oct_23/agg_model_data/FP'\n",
    "os.makedirs(output_path2,exist_ok=True)\n",
    "output_path3 = '/home/dell/Documents/My_wrok/oct_23/v2_model_data/FP'\n",
    "os.makedirs(output_path3,exist_ok=True)\n",
    "\n",
    "for img in mean_fake_fp_list:\n",
    "    if img not in agg_fake_fp_list and img not in v2_fake_fp_list:\n",
    "        shutil.copy(os.path.join(input_dict,img),output_path1)\n",
    "        \n",
    "for img in agg_fake_fp_list:\n",
    "    if img not in mean_fake_fp_list and img not in v2_fake_fp_list:\n",
    "        shutil.copy(os.path.join(input_dict,img),output_path2)\n",
    "        \n",
    "for img in v2_fake_fp_list:\n",
    "    if img not in agg_fake_fp_list and img not in mean_fake_fp_list:\n",
    "        shutil.copy(os.path.join(input_dict,img),output_path3)"
   ]
  },
  {
   "cell_type": "code",
   "execution_count": 11,
   "id": "640c101b",
   "metadata": {},
   "outputs": [],
   "source": [
    "# real\n",
    "mean_real = mean.loc[mean['class'] == 'real']\n",
    "mean_real_fn= mean_real.loc[mean_real['pred_score']<0.2]\n",
    "mean_real_tp= mean_real.loc[mean_real['pred_score']>=0.2]\n",
    "\n",
    "agg_real = agg.loc[agg['class'] == 'real']\n",
    "agg_real_fn= agg_real.loc[agg_real['pred_score']<0.2]\n",
    "agg_real_tp= agg_real.loc[agg_real['pred_score']>=0.2]\n",
    "\n",
    "\n",
    "v2_real = v2.loc[v2['class'] == 'real']\n",
    "v2_real_fn= v2_real.loc[v2_real['pred_score']<0.5]\n",
    "v2_real_tp= v2_real.loc[v2_real['pred_score']>=0.5]"
   ]
  },
  {
   "cell_type": "code",
   "execution_count": 20,
   "id": "df568be5",
   "metadata": {},
   "outputs": [
    {
     "data": {
      "text/html": [
       "<div>\n",
       "<style scoped>\n",
       "    .dataframe tbody tr th:only-of-type {\n",
       "        vertical-align: middle;\n",
       "    }\n",
       "\n",
       "    .dataframe tbody tr th {\n",
       "        vertical-align: top;\n",
       "    }\n",
       "\n",
       "    .dataframe thead th {\n",
       "        text-align: right;\n",
       "    }\n",
       "</style>\n",
       "<table border=\"1\" class=\"dataframe\">\n",
       "  <thead>\n",
       "    <tr style=\"text-align: right;\">\n",
       "      <th></th>\n",
       "      <th>image_name</th>\n",
       "      <th>class</th>\n",
       "      <th>pred_score</th>\n",
       "    </tr>\n",
       "  </thead>\n",
       "  <tbody>\n",
       "    <tr>\n",
       "      <th>0</th>\n",
       "      <td>8ff9bb58ab3a852b32089b86266f4d43_image.jpg</td>\n",
       "      <td>real</td>\n",
       "      <td>0.993469</td>\n",
       "    </tr>\n",
       "    <tr>\n",
       "      <th>1</th>\n",
       "      <td>8a3f414dfe1754fa84156fe196113dba_image.jpg</td>\n",
       "      <td>real</td>\n",
       "      <td>0.989158</td>\n",
       "    </tr>\n",
       "    <tr>\n",
       "      <th>2</th>\n",
       "      <td>3ddb2d42fd2219e8c3ed99017fe1da4b_image.jpg</td>\n",
       "      <td>real</td>\n",
       "      <td>0.997442</td>\n",
       "    </tr>\n",
       "    <tr>\n",
       "      <th>3</th>\n",
       "      <td>78c9ac5790224bb8b62b5372f596b4a9_image.jpg</td>\n",
       "      <td>real</td>\n",
       "      <td>0.993192</td>\n",
       "    </tr>\n",
       "    <tr>\n",
       "      <th>5</th>\n",
       "      <td>2c6b536f9089709b606ec47a797f2c98_image.jpg</td>\n",
       "      <td>real</td>\n",
       "      <td>0.989057</td>\n",
       "    </tr>\n",
       "    <tr>\n",
       "      <th>...</th>\n",
       "      <td>...</td>\n",
       "      <td>...</td>\n",
       "      <td>...</td>\n",
       "    </tr>\n",
       "    <tr>\n",
       "      <th>655741</th>\n",
       "      <td>b140cca46915d731b3bfc50435d61edc_image.jpg</td>\n",
       "      <td>real</td>\n",
       "      <td>0.939350</td>\n",
       "    </tr>\n",
       "    <tr>\n",
       "      <th>655742</th>\n",
       "      <td>e15de18f5ae5903acd6afeba7e927d52_image.jpg</td>\n",
       "      <td>real</td>\n",
       "      <td>0.995336</td>\n",
       "    </tr>\n",
       "    <tr>\n",
       "      <th>655743</th>\n",
       "      <td>781e986cb97029fe553bcf5d9078206b_image.jpg</td>\n",
       "      <td>real</td>\n",
       "      <td>0.655822</td>\n",
       "    </tr>\n",
       "    <tr>\n",
       "      <th>655744</th>\n",
       "      <td>6a828cdc8322e6fb9009027dc356c6b2_image.jpg</td>\n",
       "      <td>real</td>\n",
       "      <td>0.992834</td>\n",
       "    </tr>\n",
       "    <tr>\n",
       "      <th>655745</th>\n",
       "      <td>aa5835e1e17000d71b6f9e90846a530a_image.jpg</td>\n",
       "      <td>real</td>\n",
       "      <td>0.998421</td>\n",
       "    </tr>\n",
       "  </tbody>\n",
       "</table>\n",
       "<p>601292 rows × 3 columns</p>\n",
       "</div>"
      ],
      "text/plain": [
       "                                        image_name class  pred_score\n",
       "0       8ff9bb58ab3a852b32089b86266f4d43_image.jpg  real    0.993469\n",
       "1       8a3f414dfe1754fa84156fe196113dba_image.jpg  real    0.989158\n",
       "2       3ddb2d42fd2219e8c3ed99017fe1da4b_image.jpg  real    0.997442\n",
       "3       78c9ac5790224bb8b62b5372f596b4a9_image.jpg  real    0.993192\n",
       "5       2c6b536f9089709b606ec47a797f2c98_image.jpg  real    0.989057\n",
       "...                                            ...   ...         ...\n",
       "655741  b140cca46915d731b3bfc50435d61edc_image.jpg  real    0.939350\n",
       "655742  e15de18f5ae5903acd6afeba7e927d52_image.jpg  real    0.995336\n",
       "655743  781e986cb97029fe553bcf5d9078206b_image.jpg  real    0.655822\n",
       "655744  6a828cdc8322e6fb9009027dc356c6b2_image.jpg  real    0.992834\n",
       "655745  aa5835e1e17000d71b6f9e90846a530a_image.jpg  real    0.998421\n",
       "\n",
       "[601292 rows x 3 columns]"
      ]
     },
     "execution_count": 20,
     "metadata": {},
     "output_type": "execute_result"
    }
   ],
   "source": [
    "v2_real_tp`````````~~~~`````````````````````````````````````````````"
   ]
  },
  {
   "cell_type": "code",
   "execution_count": 42,
   "id": "d3b032a3",
   "metadata": {},
   "outputs": [],
   "source": [
    "# TP\n",
    "mean_real_tp_list = mean_real_tp['image_name'].tolist()\n",
    "agg_real_tp_list = agg_real_tp['image_name'].tolist()\n",
    "v2_real_tp_list = v2_real_tp['image_name'].tolist()\n",
    "\n",
    "input_dict = '/home/dell/Documents/My_wrok/oct_23/Total_liveness_data/real'\n",
    "# input_list = os.listdir(input_dict)\n",
    "output_path1 = '/home/dell/Documents/My_wrok/oct_23/mean_model_data/TP'\n",
    "os.makedirs(output_path1,exist_ok=True)\n",
    "output_path2 = '/home/dell/Documents/My_wrok/oct_23/agg_model_data/TP'\n",
    "os.makedirs(output_path2,exist_ok=True)\n",
    "output_path3 = '/home/dell/Documents/My_wrok/oct_23/v2_model_data/TP'\n",
    "os.makedirs(output_path3,exist_ok=True)\n",
    "\n",
    "for img in mean_real_tp_list:\n",
    "    if img not in agg_real_tp_list and img not in v2_real_tp_list:\n",
    "        shutil.copy(os.path.join(input_dict,img),output_path1)\n",
    "        \n",
    "for img in agg_real_tp_list:\n",
    "    if img not in mean_real_tp_list and img not in v2_real_tp_list:\n",
    "        shutil.copy(os.path.join(input_dict,img),output_path2)\n",
    "        \n",
    "for img in v2_real_tp_list:\n",
    "    if img not in agg_real_tp_list and img not in mean_real_tp_list:\n",
    "        try:\n",
    "            shutil.copy(os.path.join(input_dict,img),output_path3)\n",
    "        except:\n",
    "            print(os.path.join(input_dict,img))"
   ]
  },
  {
   "cell_type": "code",
   "execution_count": 43,
   "id": "7cfb6086",
   "metadata": {},
   "outputs": [],
   "source": [
    "# FN\n",
    "mean_real_fn_list = mean_real_fn['image_name'].tolist()\n",
    "agg_real_fn_list = agg_real_fn['image_name'].tolist()\n",
    "v2_real_fn_list = v2_real_fn['image_name'].tolist()\n",
    "\n",
    "input_dict = '/home/dell/Documents/My_wrok/oct_23/Total_liveness_data/real'\n",
    "# input_list = os.listdir(input_dict)\n",
    "output_path1 = '/home/dell/Documents/My_wrok/oct_23/mean_model_data/FN'\n",
    "os.makedirs(output_path1,exist_ok=True)\n",
    "output_path2 = '/home/dell/Documents/My_wrok/oct_23/agg_model_data/FN'\n",
    "os.makedirs(output_path2,exist_ok=True)\n",
    "output_path3 = '/home/dell/Documents/My_wrok/oct_23/v2_model_data/FN'\n",
    "os.makedirs(output_path3,exist_ok=True)\n",
    "\n",
    "for img in mean_real_fn_list:\n",
    "    if img not in agg_real_fn_list and img not in v2_real_fn_list:\n",
    "        shutil.copy(os.path.join(input_dict,img),output_path1)\n",
    "        \n",
    "for img in agg_real_fn_list:\n",
    "    if img not in mean_real_fn_list and img not in v2_real_fn_list:\n",
    "        shutil.copy(os.path.join(input_dict,img),output_path2)\n",
    "        \n",
    "for img in v2_real_fn_list:\n",
    "    if img not in agg_real_fn_list and img not in mean_real_fn_list:\n",
    "        shutil.copy(os.path.join(input_dict,img),output_path3)"
   ]
  },
  {
   "cell_type": "code",
   "execution_count": 45,
   "id": "1bf9b644",
   "metadata": {},
   "outputs": [],
   "source": [
    "mean = pd.read_csv('/home/dell/Downloads/mean_fake.csv')"
   ]
  },
  {
   "cell_type": "code",
   "execution_count": 51,
   "id": "bef0185c",
   "metadata": {},
   "outputs": [],
   "source": [
    "# fake\n",
    "mean_fake = mean.loc[mean['GT'] == 'fake']\n",
    "mean_fake_tn_15= mean_fake.loc[mean_fake['pred_score']<0.15]\n",
    "mean_fake_fp_15= mean_fake.loc[mean_fake['pred_score']>=0.15]"
   ]
  },
  {
   "cell_type": "code",
   "execution_count": 52,
   "id": "6c156ca4",
   "metadata": {},
   "outputs": [],
   "source": [
    "# fake\n",
    "mean_fake = mean.loc[mean['GT'] == 'fake']\n",
    "mean_fake_tn_20= mean_fake.loc[mean_fake['pred_score']<0.20]\n",
    "mean_fake_fp_20= mean_fake.loc[mean_fake['pred_score']>=0.20]"
   ]
  },
  {
   "cell_type": "code",
   "execution_count": 53,
   "id": "0db8629f",
   "metadata": {},
   "outputs": [
    {
     "data": {
      "text/plain": [
       "8205"
      ]
     },
     "execution_count": 53,
     "metadata": {},
     "output_type": "execute_result"
    }
   ],
   "source": [
    "l1 = mean_fake_fp_20['image_name'].tolist()\n",
    "len(l1)"
   ]
  },
  {
   "cell_type": "code",
   "execution_count": 55,
   "id": "5b1c6df0",
   "metadata": {},
   "outputs": [
    {
     "data": {
      "text/plain": [
       "9773"
      ]
     },
     "execution_count": 55,
     "metadata": {},
     "output_type": "execute_result"
    }
   ],
   "source": [
    "l2 =mean_fake_fp_15['image_name'].tolist()\n",
    "len(l2)"
   ]
  },
  {
   "cell_type": "code",
   "execution_count": 35,
   "id": "bc89a324",
   "metadata": {},
   "outputs": [
    {
     "data": {
      "text/plain": [
       "216"
      ]
     },
     "execution_count": 35,
     "metadata": {},
     "output_type": "execute_result"
    }
   ],
   "source": [
    "401-185"
   ]
  },
  {
   "cell_type": "code",
   "execution_count": 36,
   "id": "24e3bf91",
   "metadata": {},
   "outputs": [],
   "source": [
    "input_path  = '/media/dell/8D64-FD011/My_work_year_2022/oct/oct_20/golden_data_after_removing_fns_fps/fake'\n",
    "output_path = '/home/dell/Documents/My_wrok/oct_31/output/'\n",
    "for img in l1:\n",
    "    if img not in l2:\n",
    "        shutil.copy(os.path.join(input_path,img),output_path)\n"
   ]
  },
  {
   "cell_type": "code",
   "execution_count": null,
   "id": "b65cd737",
   "metadata": {},
   "outputs": [],
   "source": []
  }
 ],
 "metadata": {
  "kernelspec": {
   "display_name": "Python 3 (ipykernel)",
   "language": "python",
   "name": "python3"
  },
  "language_info": {
   "codemirror_mode": {
    "name": "ipython",
    "version": 3
   },
   "file_extension": ".py",
   "mimetype": "text/x-python",
   "name": "python",
   "nbconvert_exporter": "python",
   "pygments_lexer": "ipython3",
   "version": "3.9.7"
  }
 },
 "nbformat": 4,
 "nbformat_minor": 5
}
